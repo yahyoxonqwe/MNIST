{
 "cells": [
  {
   "cell_type": "code",
   "execution_count": 1,
   "id": "61f643e8",
   "metadata": {},
   "outputs": [],
   "source": [
    "from tensorflow import keras\n",
    "import numpy as np\n",
    "import matplotlib.pyplot as plt"
   ]
  },
  {
   "cell_type": "code",
   "execution_count": 2,
   "id": "0b9ccc44",
   "metadata": {},
   "outputs": [],
   "source": [
    "(train_x , train_y) , (test_x , test_y) = keras.datasets.mnist.load_data()"
   ]
  },
  {
   "cell_type": "code",
   "execution_count": 3,
   "id": "a2d6871b",
   "metadata": {},
   "outputs": [
    {
     "data": {
      "image/png": "[encoded data removed]",
      "text/plain": [
       "<Figure size 600x600 with 16 Axes>"
      ]
     },
     "metadata": {},
     "output_type": "display_data"
    }
   ],
   "source": [
    "fig, axes = plt.subplots(nrows=4, ncols=4, figsize=(6,6))\n",
    "\n",
    "for i, ax in enumerate(axes.flat):\n",
    "    ax.imshow(train_x[i], cmap='gray', interpolation='none')\n",
    "    ax.set_title(\"Class {}\".format(train_y[i]))\n",
    "    ax.axis('off')\n",
    "\n",
    "plt.subplots_adjust(wspace=0.4, hspace=0.4)\n",
    "plt.show()"
   ]
  },
  {
   "cell_type": "code",
   "execution_count": 4,
   "id": "78bca6c7",
   "metadata": {},
   "outputs": [],
   "source": [
    "train_x = train_x.astype(\"float32\") / 255\n",
    "test_x = test_x.astype(\"float32\") / 255\n",
    "train_x = np.expand_dims(train_x, -1)\n",
    "test_x = np.expand_dims(test_x, -1)"
   ]
  },
  {
   "cell_type": "code",
   "execution_count": 5,
   "id": "9be9c0a3",
   "metadata": {},
   "outputs": [
    {
     "data": {
      "text/plain": [
       "((60000, 28, 28, 1), (60000,))"
      ]
     },
     "execution_count": 5,
     "metadata": {},
     "output_type": "execute_result"
    }
   ],
   "source": [
    "train_x.shape , train_y.shape"
   ]
  },
  {
   "cell_type": "code",
   "execution_count": 6,
   "id": "4c23c374",
   "metadata": {},
   "outputs": [],
   "source": [
    "model = keras.Sequential([\n",
    "        keras.Input(shape=[28,28 ,1]),\n",
    "        keras.layers.Conv2D(32, kernel_size=(3, 3) , padding = 'same' , activation = 'relu'),\n",
    "        keras.layers.MaxPooling2D(pool_size=(2, 2)),\n",
    "        keras.layers.Conv2D(64, kernel_size=(3, 3) , padding = 'same' , activation = 'relu'),\n",
    "        keras.layers.MaxPooling2D(pool_size=(2, 2)),\n",
    "        keras.layers.Flatten(),\n",
    "        keras.layers.Dense(128 , activation = 'relu'),\n",
    "        keras.layers.Dense(10, activation=\"softmax\")])"
   ]
  },
  {
   "cell_type": "code",
   "execution_count": 7,
   "id": "86d93321",
   "metadata": {},
   "outputs": [
    {
     "name": "stdout",
     "output_type": "stream",
     "text": [
      "Model: \"sequential\"\n",
      "_________________________________________________________________\n",
      " Layer (type)                Output Shape              Param #   \n",
      "=================================================================\n",
      " conv2d (Conv2D)             (None, 28, 28, 32)        320       \n",
      "                                                                 \n",
      " max_pooling2d (MaxPooling2D  (None, 14, 14, 32)       0         \n",
      " )                                                               \n",
      "                                                                 \n",
      " conv2d_1 (Conv2D)           (None, 14, 14, 64)        18496     \n",
      "                                                                 \n",
      " max_pooling2d_1 (MaxPooling  (None, 7, 7, 64)         0         \n",
      " 2D)                                                             \n",
      "                                                                 \n",
      " flatten (Flatten)           (None, 3136)              0         \n",
      "                                                                 \n",
      " dense (Dense)               (None, 128)               401536    \n",
      "                                                                 \n",
      " dense_1 (Dense)             (None, 10)                1290      \n",
      "                                                                 \n",
      "=================================================================\n",
      "Total params: 421,642\n",
      "Trainable params: 421,642\n",
      "Non-trainable params: 0\n",
      "_________________________________________________________________\n"
     ]
    }
   ],
   "source": [
    "model.summary()"
   ]
  },
  {
   "cell_type": "code",
   "execution_count": 8,
   "id": "d6909924",
   "metadata": {},
   "outputs": [],
   "source": [
    "model.compile(optimizer='adam' , loss = 'sparse_categorical_crossentropy' , metrics = ['accuracy'])"
   ]
  },
  {
   "cell_type": "code",
   "execution_count": 9,
   "id": "1dcf20b0",
   "metadata": {},
   "outputs": [
    {
     "name": "stdout",
     "output_type": "stream",
     "text": [
      "Epoch 1/10\n",
      "844/844 [==============================] - 18s 21ms/step - loss: 0.1546 - accuracy: 0.9539 - val_loss: 0.0511 - val_accuracy: 0.9848\n",
      "Epoch 2/10\n",
      "844/844 [==============================] - 19s 23ms/step - loss: 0.0466 - accuracy: 0.9857 - val_loss: 0.0465 - val_accuracy: 0.9868\n",
      "Epoch 3/10\n",
      "844/844 [==============================] - 19s 23ms/step - loss: 0.0311 - accuracy: 0.9904 - val_loss: 0.0372 - val_accuracy: 0.9893\n",
      "Epoch 4/10\n",
      "844/844 [==============================] - 20s 23ms/step - loss: 0.0226 - accuracy: 0.9928 - val_loss: 0.0414 - val_accuracy: 0.9880\n",
      "Epoch 5/10\n",
      "844/844 [==============================] - 20s 23ms/step - loss: 0.0160 - accuracy: 0.9948 - val_loss: 0.0381 - val_accuracy: 0.9915\n",
      "Epoch 6/10\n",
      "844/844 [==============================] - 20s 23ms/step - loss: 0.0126 - accuracy: 0.9956 - val_loss: 0.0468 - val_accuracy: 0.9887\n",
      "Epoch 7/10\n",
      "844/844 [==============================] - 20s 23ms/step - loss: 0.0115 - accuracy: 0.9963 - val_loss: 0.0401 - val_accuracy: 0.9902\n",
      "Epoch 8/10\n",
      "844/844 [==============================] - 20s 23ms/step - loss: 0.0094 - accuracy: 0.9966 - val_loss: 0.0313 - val_accuracy: 0.9925\n",
      "Epoch 9/10\n",
      "844/844 [==============================] - 20s 23ms/step - loss: 0.0064 - accuracy: 0.9978 - val_loss: 0.0438 - val_accuracy: 0.9910\n",
      "Epoch 10/10\n",
      "844/844 [==============================] - 20s 23ms/step - loss: 0.0063 - accuracy: 0.9979 - val_loss: 0.0351 - val_accuracy: 0.9928\n"
     ]
    },
    {
     "data": {
      "text/plain": [
       "<keras.callbacks.History at 0x25443b0a910>"
      ]
     },
     "execution_count": 9,
     "metadata": {},
     "output_type": "execute_result"
    }
   ],
   "source": [
    "model.fit(train_x , train_y , batch_size = 64 , validation_split = 0.1 , epochs=10)"
   ]
  },
  {
   "cell_type": "code",
   "execution_count": 10,
   "id": "93c9e9b3",
   "metadata": {},
   "outputs": [
    {
     "name": "stdout",
     "output_type": "stream",
     "text": [
      "Test loss: 0.03531290218234062\n",
      "Test accuracy: 0.9904999732971191\n"
     ]
    }
   ],
   "source": [
    "score = model.evaluate(test_x, test_y, verbose=0)\n",
    "print(\"Test loss:\", score[0])\n",
    "print(\"Test accuracy:\", score[1])"
   ]
  },
  {
   "cell_type": "code",
   "execution_count": 11,
   "id": "47ae09f4",
   "metadata": {},
   "outputs": [],
   "source": [
    "model.save('mnist.h5')"
   ]
  },
  {
   "cell_type": "code",
   "execution_count": null,
   "id": "d523604e",
   "metadata": {},
   "outputs": [],
   "source": []
  }
 ],
 "metadata": {
  "kernelspec": {
   "display_name": "keras",
   "language": "python",
   "name": "keras"
  },
  "language_info": {
   "codemirror_mode": {
    "name": "ipython",
    "version": 3
   },
   "file_extension": ".py",
   "mimetype": "text/x-python",
   "name": "python",
   "nbconvert_exporter": "python",
   "pygments_lexer": "ipython3",
   "version": "3.9.9"
  }
 },
 "nbformat": 4,
 "nbformat_minor": 5
}
